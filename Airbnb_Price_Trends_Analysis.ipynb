{
  "nbformat": 4,
  "nbformat_minor": 0,
  "metadata": {
    "colab": {
      "provenance": [],
      "authorship_tag": "ABX9TyNqESSxtiz8sneWp4gplgdb"
    },
    "kernelspec": {
      "name": "python3",
      "display_name": "Python 3"
    },
    "language_info": {
      "name": "python"
    }
  },
  "cells": [
    {
      "cell_type": "code",
      "execution_count": null,
      "metadata": {
        "id": "RXuz8sDHk0BI"
      },
      "outputs": [],
      "source": [
        "import pandas as pd\n",
        "import numpy as np\n",
        "import matplotlib.pyplot as plt\n",
        "import seaborn as sns\n",
        "import plotly.express as px\n"
      ]
    },
    {
      "cell_type": "code",
      "source": [
        "url = \"http://data.insideairbnb.com/united-states/ny/new-york-city/2023-09-05/visualisations/listings.csv\"\n",
        "df = pd.read_csv(url)\n",
        "df.head()\n"
      ],
      "metadata": {
        "id": "RTQZmIHLlcXb"
      },
      "execution_count": null,
      "outputs": []
    },
    {
      "cell_type": "code",
      "source": [
        "df.info()\n",
        "df.describe()\n",
        "df.isnull().sum()\n"
      ],
      "metadata": {
        "id": "_cDrrQJLlf_k"
      },
      "execution_count": null,
      "outputs": []
    },
    {
      "cell_type": "code",
      "source": [
        "# Drop rows with missing price\n",
        "df = df[df['price'].notna()]\n",
        "\n",
        "# Convert price to numeric\n",
        "df['price'] = df['price'].replace('[\\$,]', '', regex=True).astype(float)\n",
        "\n",
        "# Remove outliers\n",
        "df = df[df['price'] < 1000]  # optional\n"
      ],
      "metadata": {
        "id": "3N99LF9nlkrk"
      },
      "execution_count": null,
      "outputs": []
    },
    {
      "cell_type": "code",
      "source": [
        "top_neighborhoods = df.groupby('neighbourhood_cleansed')['price'].mean().sort_values(ascending=False).head(10)\n",
        "\n",
        "plt.figure(figsize=(10, 6))\n",
        "sns.barplot(x=top_neighborhoods.values, y=top_neighborhoods.index, palette='rocket')\n",
        "plt.title('Top 10 Most Expensive Neighborhoods in NYC')\n",
        "plt.xlabel('Average Price ($)')\n",
        "plt.ylabel('Neighborhood')\n",
        "plt.show()\n"
      ],
      "metadata": {
        "id": "KUoU6mX7ltX0"
      },
      "execution_count": null,
      "outputs": []
    },
    {
      "cell_type": "code",
      "source": [
        "sns.boxplot(data=df, x='room_type', y='price')\n",
        "plt.ylim(0, 500)\n",
        "plt.title(\"Price Distribution by Room Type\")\n",
        "plt.ylabel(\"Price ($)\")\n",
        "plt.show()\n"
      ],
      "metadata": {
        "id": "Ea1iHsJTlyHt"
      },
      "execution_count": null,
      "outputs": []
    },
    {
      "cell_type": "code",
      "source": [
        "fig = px.scatter_mapbox(\n",
        "    df.sample(1000),\n",
        "    lat=\"latitude\",\n",
        "    lon=\"longitude\",\n",
        "    color=\"price\",\n",
        "    size=\"price\",\n",
        "    hover_name=\"name\",\n",
        "    mapbox_style=\"carto-positron\",\n",
        "    title=\"Airbnb Listings in NYC by Price\",\n",
        "    zoom=10,\n",
        "    height=600\n",
        ")\n",
        "fig.show()\n"
      ],
      "metadata": {
        "id": "jE7xcOBFl2NX"
      },
      "execution_count": null,
      "outputs": []
    },
    {
      "cell_type": "code",
      "source": [
        "sns.scatterplot(data=df, x='availability_365', y='price', alpha=0.5)\n",
        "plt.title(\"Availability vs Price\")\n",
        "plt.xlabel(\"Availability (days/year)\")\n",
        "plt.ylabel(\"Price ($)\")\n",
        "plt.show()\n"
      ],
      "metadata": {
        "id": "JUMWZq3_nUkK"
      },
      "execution_count": null,
      "outputs": []
    }
  ]
}